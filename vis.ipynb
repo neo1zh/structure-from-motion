{
 "cells": [
  {
   "cell_type": "markdown",
   "metadata": {},
   "source": [
    "从ply里读取 open3d打开"
   ]
  },
  {
   "cell_type": "code",
   "execution_count": 6,
   "metadata": {},
   "outputs": [],
   "source": [
    "import open3d as o3d"
   ]
  },
  {
   "cell_type": "code",
   "execution_count": 14,
   "metadata": {},
   "outputs": [
    {
     "name": "stdout",
     "output_type": "stream",
     "text": [
      "PointCloud with 7902 points.\n"
     ]
    }
   ],
   "source": [
    "# ply_path = 'data\\\\points\\\\11_images.ply'\n",
    "ply_path = 'data/points/11_images.ply'\n",
    "\n",
    "point_cloud = o3d.io.read_point_cloud(ply_path)\n",
    "\n",
    "# 打印点云信息\n",
    "print(point_cloud)\n",
    "\n",
    "# 可视化点云\n",
    "o3d.visualization.draw_geometries([point_cloud],\n",
    "                                  zoom=0.5,\n",
    "                                  front=[0.0, 0.0, -1.0],\n",
    "                                  lookat=[0.0, 0.0, 0.0],\n",
    "                                  up=[0.0, -1.0, 0.0])"
   ]
  },
  {
   "cell_type": "code",
   "execution_count": null,
   "metadata": {},
   "outputs": [],
   "source": []
  }
 ],
 "metadata": {
  "kernelspec": {
   "display_name": "opencv-python",
   "language": "python",
   "name": "python3"
  },
  "language_info": {
   "codemirror_mode": {
    "name": "ipython",
    "version": 3
   },
   "file_extension": ".py",
   "mimetype": "text/x-python",
   "name": "python",
   "nbconvert_exporter": "python",
   "pygments_lexer": "ipython3",
   "version": "3.8.19"
  }
 },
 "nbformat": 4,
 "nbformat_minor": 2
}
